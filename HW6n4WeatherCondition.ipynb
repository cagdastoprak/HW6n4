{
  "nbformat": 4,
  "nbformat_minor": 0,
  "metadata": {
    "colab": {
      "name": "HW6n4WeatherCondition.ipynb",
      "provenance": []
    },
    "kernelspec": {
      "name": "python3",
      "display_name": "Python 3"
    }
  },
  "cells": [
    {
      "cell_type": "code",
      "metadata": {
        "id": "Y2U1jJVTcBvC",
        "colab_type": "code",
        "colab": {
          "base_uri": "https://localhost:8080/",
          "height": 34
        },
        "outputId": "4de96668-6720-442b-a89d-f0856d525814"
      },
      "source": [
        "from google.colab import drive\n",
        "drive.mount('/content/drive')"
      ],
      "execution_count": 1,
      "outputs": [
        {
          "output_type": "stream",
          "text": [
            "Drive already mounted at /content/drive; to attempt to forcibly remount, call drive.mount(\"/content/drive\", force_remount=True).\n"
          ],
          "name": "stdout"
        }
      ]
    },
    {
      "cell_type": "code",
      "metadata": {
        "id": "pmq6N4_OcL6L",
        "colab_type": "code",
        "colab": {
          "base_uri": "https://localhost:8080/",
          "height": 102
        },
        "outputId": "1fc6a57f-9b04-411b-ba76-06dc59394720"
      },
      "source": [
        "%cd /content/drive/My\\ Drive/Colab\\ Notebooks/data \n",
        "# change directory\n",
        "%pwd  # Ben neredeyim komutu\n",
        "!ls    # İçerisinde ne var "
      ],
      "execution_count": 2,
      "outputs": [
        {
          "output_type": "stream",
          "text": [
            "/content/drive/My Drive/Colab Notebooks/data\n",
            "analyticsDeneme.csv  productPerformanceReport.csv     weatherHistory.csv\n",
            "EvFiyatlari\t     productPerformanceReportEng.csv  youtube.csv\n",
            "fifa.csv\t     states_all.csv\n",
            "insurance.csv\t     StudentsPerformance.csv\n"
          ],
          "name": "stdout"
        }
      ]
    },
    {
      "cell_type": "code",
      "metadata": {
        "id": "J4vnob5acN20",
        "colab_type": "code",
        "colab": {
          "base_uri": "https://localhost:8080/",
          "height": 51
        },
        "outputId": "223b2658-70be-44ce-ebb6-a1ec721fcf73"
      },
      "source": [
        "import pandas as pd\n",
        "import numpy as np\n",
        "from sklearn import linear_model\n",
        "import matplotlib.pyplot as plt\n",
        "import seaborn as sns\n",
        "import statsmodels.api as sm\n",
        "from sklearn import linear_model\n",
        "import math\n",
        "#from matplotlib.mlab import PCA as mlabPCA\n",
        "from sklearn.preprocessing import StandardScaler\n",
        "from sklearn.decomposition import PCA\n",
        "from sqlalchemy import create_engine\n",
        "import warnings\n",
        "\n",
        "warnings.filterwarnings('ignore')\n",
        "\n",
        "%matplotlib inline\n",
        "pd.options.display.float_format = '{:.3f}'.format\n",
        "\n",
        "sns.set_style(\"whitegrid\")\n",
        "baslik_font = {'family': 'arial', 'color': 'darkred','weight': 'bold','size': 13 }\n",
        "eksen_font  = {'family': 'arial', 'color': 'darkblue','weight': 'bold','size': 10 }"
      ],
      "execution_count": 3,
      "outputs": [
        {
          "output_type": "stream",
          "text": [
            "/usr/local/lib/python3.6/dist-packages/statsmodels/tools/_testing.py:19: FutureWarning: pandas.util.testing is deprecated. Use the functions in the public API at pandas.testing instead.\n",
            "  import pandas.util.testing as tm\n"
          ],
          "name": "stderr"
        }
      ]
    },
    {
      "cell_type": "code",
      "metadata": {
        "id": "wwNIvP9XcPwn",
        "colab_type": "code",
        "colab": {
          "base_uri": "https://localhost:8080/",
          "height": 204
        },
        "outputId": "e836a111-62cf-4f3f-ef2b-8635ebf759ee"
      },
      "source": [
        "original_data = pd.read_csv(\"weatherHistory.csv\")\n",
        "data=original_data.copy()\n",
        "original_data.head()"
      ],
      "execution_count": 4,
      "outputs": [
        {
          "output_type": "execute_result",
          "data": {
            "text/html": [
              "<div>\n",
              "<style scoped>\n",
              "    .dataframe tbody tr th:only-of-type {\n",
              "        vertical-align: middle;\n",
              "    }\n",
              "\n",
              "    .dataframe tbody tr th {\n",
              "        vertical-align: top;\n",
              "    }\n",
              "\n",
              "    .dataframe thead th {\n",
              "        text-align: right;\n",
              "    }\n",
              "</style>\n",
              "<table border=\"1\" class=\"dataframe\">\n",
              "  <thead>\n",
              "    <tr style=\"text-align: right;\">\n",
              "      <th></th>\n",
              "      <th>Formatted Date</th>\n",
              "      <th>Summary</th>\n",
              "      <th>Precip Type</th>\n",
              "      <th>Temperature (C)</th>\n",
              "      <th>Apparent Temperature (C)</th>\n",
              "      <th>Humidity</th>\n",
              "      <th>Wind Speed (km/h)</th>\n",
              "      <th>Wind Bearing (degrees)</th>\n",
              "      <th>Visibility (km)</th>\n",
              "      <th>Loud Cover</th>\n",
              "      <th>Pressure (millibars)</th>\n",
              "      <th>Daily Summary</th>\n",
              "    </tr>\n",
              "  </thead>\n",
              "  <tbody>\n",
              "    <tr>\n",
              "      <th>0</th>\n",
              "      <td>2006-04-01 00:00:00.000 +0200</td>\n",
              "      <td>Partly Cloudy</td>\n",
              "      <td>rain</td>\n",
              "      <td>9.472</td>\n",
              "      <td>7.389</td>\n",
              "      <td>0.890</td>\n",
              "      <td>14.120</td>\n",
              "      <td>251.000</td>\n",
              "      <td>15.826</td>\n",
              "      <td>0.000</td>\n",
              "      <td>1015.130</td>\n",
              "      <td>Partly cloudy throughout the day.</td>\n",
              "    </tr>\n",
              "    <tr>\n",
              "      <th>1</th>\n",
              "      <td>2006-04-01 01:00:00.000 +0200</td>\n",
              "      <td>Partly Cloudy</td>\n",
              "      <td>rain</td>\n",
              "      <td>9.356</td>\n",
              "      <td>7.228</td>\n",
              "      <td>0.860</td>\n",
              "      <td>14.265</td>\n",
              "      <td>259.000</td>\n",
              "      <td>15.826</td>\n",
              "      <td>0.000</td>\n",
              "      <td>1015.630</td>\n",
              "      <td>Partly cloudy throughout the day.</td>\n",
              "    </tr>\n",
              "    <tr>\n",
              "      <th>2</th>\n",
              "      <td>2006-04-01 02:00:00.000 +0200</td>\n",
              "      <td>Mostly Cloudy</td>\n",
              "      <td>rain</td>\n",
              "      <td>9.378</td>\n",
              "      <td>9.378</td>\n",
              "      <td>0.890</td>\n",
              "      <td>3.928</td>\n",
              "      <td>204.000</td>\n",
              "      <td>14.957</td>\n",
              "      <td>0.000</td>\n",
              "      <td>1015.940</td>\n",
              "      <td>Partly cloudy throughout the day.</td>\n",
              "    </tr>\n",
              "    <tr>\n",
              "      <th>3</th>\n",
              "      <td>2006-04-01 03:00:00.000 +0200</td>\n",
              "      <td>Partly Cloudy</td>\n",
              "      <td>rain</td>\n",
              "      <td>8.289</td>\n",
              "      <td>5.944</td>\n",
              "      <td>0.830</td>\n",
              "      <td>14.104</td>\n",
              "      <td>269.000</td>\n",
              "      <td>15.826</td>\n",
              "      <td>0.000</td>\n",
              "      <td>1016.410</td>\n",
              "      <td>Partly cloudy throughout the day.</td>\n",
              "    </tr>\n",
              "    <tr>\n",
              "      <th>4</th>\n",
              "      <td>2006-04-01 04:00:00.000 +0200</td>\n",
              "      <td>Mostly Cloudy</td>\n",
              "      <td>rain</td>\n",
              "      <td>8.756</td>\n",
              "      <td>6.978</td>\n",
              "      <td>0.830</td>\n",
              "      <td>11.045</td>\n",
              "      <td>259.000</td>\n",
              "      <td>15.826</td>\n",
              "      <td>0.000</td>\n",
              "      <td>1016.510</td>\n",
              "      <td>Partly cloudy throughout the day.</td>\n",
              "    </tr>\n",
              "  </tbody>\n",
              "</table>\n",
              "</div>"
            ],
            "text/plain": [
              "                  Formatted Date  ...                      Daily Summary\n",
              "0  2006-04-01 00:00:00.000 +0200  ...  Partly cloudy throughout the day.\n",
              "1  2006-04-01 01:00:00.000 +0200  ...  Partly cloudy throughout the day.\n",
              "2  2006-04-01 02:00:00.000 +0200  ...  Partly cloudy throughout the day.\n",
              "3  2006-04-01 03:00:00.000 +0200  ...  Partly cloudy throughout the day.\n",
              "4  2006-04-01 04:00:00.000 +0200  ...  Partly cloudy throughout the day.\n",
              "\n",
              "[5 rows x 12 columns]"
            ]
          },
          "metadata": {
            "tags": []
          },
          "execution_count": 4
        }
      ]
    },
    {
      "cell_type": "code",
      "metadata": {
        "id": "yvV7t3vucec5",
        "colab_type": "code",
        "colab": {
          "base_uri": "https://localhost:8080/",
          "height": 306
        },
        "outputId": "82c2e76b-d7cb-4d23-ad97-209390124dc3"
      },
      "source": [
        "data['TemperatureDif']=data['Temperature (C)']-data['Apparent Temperature (C)']\n",
        "data.head()"
      ],
      "execution_count": 7,
      "outputs": [
        {
          "output_type": "execute_result",
          "data": {
            "text/html": [
              "<div>\n",
              "<style scoped>\n",
              "    .dataframe tbody tr th:only-of-type {\n",
              "        vertical-align: middle;\n",
              "    }\n",
              "\n",
              "    .dataframe tbody tr th {\n",
              "        vertical-align: top;\n",
              "    }\n",
              "\n",
              "    .dataframe thead th {\n",
              "        text-align: right;\n",
              "    }\n",
              "</style>\n",
              "<table border=\"1\" class=\"dataframe\">\n",
              "  <thead>\n",
              "    <tr style=\"text-align: right;\">\n",
              "      <th></th>\n",
              "      <th>Formatted Date</th>\n",
              "      <th>Summary</th>\n",
              "      <th>Precip Type</th>\n",
              "      <th>Temperature (C)</th>\n",
              "      <th>Apparent Temperature (C)</th>\n",
              "      <th>Humidity</th>\n",
              "      <th>Wind Speed (km/h)</th>\n",
              "      <th>Wind Bearing (degrees)</th>\n",
              "      <th>Visibility (km)</th>\n",
              "      <th>Loud Cover</th>\n",
              "      <th>Pressure (millibars)</th>\n",
              "      <th>Daily Summary</th>\n",
              "      <th>TemperatureDif</th>\n",
              "    </tr>\n",
              "  </thead>\n",
              "  <tbody>\n",
              "    <tr>\n",
              "      <th>0</th>\n",
              "      <td>2006-04-01 00:00:00.000 +0200</td>\n",
              "      <td>Partly Cloudy</td>\n",
              "      <td>rain</td>\n",
              "      <td>9.472</td>\n",
              "      <td>7.389</td>\n",
              "      <td>0.890</td>\n",
              "      <td>14.120</td>\n",
              "      <td>251.000</td>\n",
              "      <td>15.826</td>\n",
              "      <td>0.000</td>\n",
              "      <td>1015.130</td>\n",
              "      <td>Partly cloudy throughout the day.</td>\n",
              "      <td>2.083</td>\n",
              "    </tr>\n",
              "    <tr>\n",
              "      <th>1</th>\n",
              "      <td>2006-04-01 01:00:00.000 +0200</td>\n",
              "      <td>Partly Cloudy</td>\n",
              "      <td>rain</td>\n",
              "      <td>9.356</td>\n",
              "      <td>7.228</td>\n",
              "      <td>0.860</td>\n",
              "      <td>14.265</td>\n",
              "      <td>259.000</td>\n",
              "      <td>15.826</td>\n",
              "      <td>0.000</td>\n",
              "      <td>1015.630</td>\n",
              "      <td>Partly cloudy throughout the day.</td>\n",
              "      <td>2.128</td>\n",
              "    </tr>\n",
              "    <tr>\n",
              "      <th>2</th>\n",
              "      <td>2006-04-01 02:00:00.000 +0200</td>\n",
              "      <td>Mostly Cloudy</td>\n",
              "      <td>rain</td>\n",
              "      <td>9.378</td>\n",
              "      <td>9.378</td>\n",
              "      <td>0.890</td>\n",
              "      <td>3.928</td>\n",
              "      <td>204.000</td>\n",
              "      <td>14.957</td>\n",
              "      <td>0.000</td>\n",
              "      <td>1015.940</td>\n",
              "      <td>Partly cloudy throughout the day.</td>\n",
              "      <td>0.000</td>\n",
              "    </tr>\n",
              "    <tr>\n",
              "      <th>3</th>\n",
              "      <td>2006-04-01 03:00:00.000 +0200</td>\n",
              "      <td>Partly Cloudy</td>\n",
              "      <td>rain</td>\n",
              "      <td>8.289</td>\n",
              "      <td>5.944</td>\n",
              "      <td>0.830</td>\n",
              "      <td>14.104</td>\n",
              "      <td>269.000</td>\n",
              "      <td>15.826</td>\n",
              "      <td>0.000</td>\n",
              "      <td>1016.410</td>\n",
              "      <td>Partly cloudy throughout the day.</td>\n",
              "      <td>2.344</td>\n",
              "    </tr>\n",
              "    <tr>\n",
              "      <th>4</th>\n",
              "      <td>2006-04-01 04:00:00.000 +0200</td>\n",
              "      <td>Mostly Cloudy</td>\n",
              "      <td>rain</td>\n",
              "      <td>8.756</td>\n",
              "      <td>6.978</td>\n",
              "      <td>0.830</td>\n",
              "      <td>11.045</td>\n",
              "      <td>259.000</td>\n",
              "      <td>15.826</td>\n",
              "      <td>0.000</td>\n",
              "      <td>1016.510</td>\n",
              "      <td>Partly cloudy throughout the day.</td>\n",
              "      <td>1.778</td>\n",
              "    </tr>\n",
              "  </tbody>\n",
              "</table>\n",
              "</div>"
            ],
            "text/plain": [
              "                  Formatted Date  ... TemperatureDif\n",
              "0  2006-04-01 00:00:00.000 +0200  ...          2.083\n",
              "1  2006-04-01 01:00:00.000 +0200  ...          2.128\n",
              "2  2006-04-01 02:00:00.000 +0200  ...          0.000\n",
              "3  2006-04-01 03:00:00.000 +0200  ...          2.344\n",
              "4  2006-04-01 04:00:00.000 +0200  ...          1.778\n",
              "\n",
              "[5 rows x 13 columns]"
            ]
          },
          "metadata": {
            "tags": []
          },
          "execution_count": 7
        }
      ]
    },
    {
      "cell_type": "code",
      "metadata": {
        "id": "4_AQ5glHdGex",
        "colab_type": "code",
        "colab": {}
      },
      "source": [
        "Y=data['TemperatureDif']\n",
        "X=data[['Humidity','Wind Speed (km/h)']]"
      ],
      "execution_count": 0,
      "outputs": []
    },
    {
      "cell_type": "code",
      "metadata": {
        "id": "UJiH0_xtdUxF",
        "colab_type": "code",
        "colab": {
          "base_uri": "https://localhost:8080/",
          "height": 444
        },
        "outputId": "906e8aed-6a85-40fe-fc76-d114ef662623"
      },
      "source": [
        "results = sm.OLS(Y, X).fit()\n",
        "results.summary()"
      ],
      "execution_count": 10,
      "outputs": [
        {
          "output_type": "execute_result",
          "data": {
            "text/html": [
              "<table class=\"simpletable\">\n",
              "<caption>OLS Regression Results</caption>\n",
              "<tr>\n",
              "  <th>Dep. Variable:</th>     <td>TemperatureDif</td>  <th>  R-squared (uncentered):</th>       <td>   0.425</td>  \n",
              "</tr>\n",
              "<tr>\n",
              "  <th>Model:</th>                   <td>OLS</td>       <th>  Adj. R-squared (uncentered):</th>  <td>   0.425</td>  \n",
              "</tr>\n",
              "<tr>\n",
              "  <th>Method:</th>             <td>Least Squares</td>  <th>  F-statistic:       </th>           <td>3.570e+04</td> \n",
              "</tr>\n",
              "<tr>\n",
              "  <th>Date:</th>             <td>Sat, 06 Jun 2020</td> <th>  Prob (F-statistic):</th>            <td>  0.00</td>   \n",
              "</tr>\n",
              "<tr>\n",
              "  <th>Time:</th>                 <td>11:48:01</td>     <th>  Log-Likelihood:    </th>          <td>-1.7675e+05</td>\n",
              "</tr>\n",
              "<tr>\n",
              "  <th>No. Observations:</th>      <td> 96453</td>      <th>  AIC:               </th>           <td>3.535e+05</td> \n",
              "</tr>\n",
              "<tr>\n",
              "  <th>Df Residuals:</th>          <td> 96451</td>      <th>  BIC:               </th>           <td>3.535e+05</td> \n",
              "</tr>\n",
              "<tr>\n",
              "  <th>Df Model:</th>              <td>     2</td>      <th>                     </th>               <td> </td>     \n",
              "</tr>\n",
              "<tr>\n",
              "  <th>Covariance Type:</th>      <td>nonrobust</td>    <th>                     </th>               <td> </td>     \n",
              "</tr>\n",
              "</table>\n",
              "<table class=\"simpletable\">\n",
              "<tr>\n",
              "          <td></td>             <th>coef</th>     <th>std err</th>      <th>t</th>      <th>P>|t|</th>  <th>[0.025</th>    <th>0.975]</th>  \n",
              "</tr>\n",
              "<tr>\n",
              "  <th>Humidity</th>          <td>    0.4873</td> <td>    0.010</td> <td>   47.338</td> <td> 0.000</td> <td>    0.467</td> <td>    0.507</td>\n",
              "</tr>\n",
              "<tr>\n",
              "  <th>Wind Speed (km/h)</th> <td>    0.0772</td> <td>    0.001</td> <td>  126.510</td> <td> 0.000</td> <td>    0.076</td> <td>    0.078</td>\n",
              "</tr>\n",
              "</table>\n",
              "<table class=\"simpletable\">\n",
              "<tr>\n",
              "  <th>Omnibus:</th>       <td>9577.682</td> <th>  Durbin-Watson:     </th> <td>   0.225</td> \n",
              "</tr>\n",
              "<tr>\n",
              "  <th>Prob(Omnibus):</th>  <td> 0.000</td>  <th>  Jarque-Bera (JB):  </th> <td>12669.324</td>\n",
              "</tr>\n",
              "<tr>\n",
              "  <th>Skew:</th>           <td> 0.867</td>  <th>  Prob(JB):          </th> <td>    0.00</td> \n",
              "</tr>\n",
              "<tr>\n",
              "  <th>Kurtosis:</th>       <td> 3.378</td>  <th>  Cond. No.          </th> <td>    27.2</td> \n",
              "</tr>\n",
              "</table><br/><br/>Warnings:<br/>[1] Standard Errors assume that the covariance matrix of the errors is correctly specified."
            ],
            "text/plain": [
              "<class 'statsmodels.iolib.summary.Summary'>\n",
              "\"\"\"\n",
              "                                 OLS Regression Results                                \n",
              "=======================================================================================\n",
              "Dep. Variable:         TemperatureDif   R-squared (uncentered):                   0.425\n",
              "Model:                            OLS   Adj. R-squared (uncentered):              0.425\n",
              "Method:                 Least Squares   F-statistic:                          3.570e+04\n",
              "Date:                Sat, 06 Jun 2020   Prob (F-statistic):                        0.00\n",
              "Time:                        11:48:01   Log-Likelihood:                     -1.7675e+05\n",
              "No. Observations:               96453   AIC:                                  3.535e+05\n",
              "Df Residuals:                   96451   BIC:                                  3.535e+05\n",
              "Df Model:                           2                                                  \n",
              "Covariance Type:            nonrobust                                                  \n",
              "=====================================================================================\n",
              "                        coef    std err          t      P>|t|      [0.025      0.975]\n",
              "-------------------------------------------------------------------------------------\n",
              "Humidity              0.4873      0.010     47.338      0.000       0.467       0.507\n",
              "Wind Speed (km/h)     0.0772      0.001    126.510      0.000       0.076       0.078\n",
              "==============================================================================\n",
              "Omnibus:                     9577.682   Durbin-Watson:                   0.225\n",
              "Prob(Omnibus):                  0.000   Jarque-Bera (JB):            12669.324\n",
              "Skew:                           0.867   Prob(JB):                         0.00\n",
              "Kurtosis:                       3.378   Cond. No.                         27.2\n",
              "==============================================================================\n",
              "\n",
              "Warnings:\n",
              "[1] Standard Errors assume that the covariance matrix of the errors is correctly specified.\n",
              "\"\"\""
            ]
          },
          "metadata": {
            "tags": []
          },
          "execution_count": 10
        }
      ]
    },
    {
      "cell_type": "code",
      "metadata": {
        "id": "BGb3plcNdeeV",
        "colab_type": "code",
        "colab": {}
      },
      "source": [
        "X = sm.add_constant(X)"
      ],
      "execution_count": 0,
      "outputs": []
    },
    {
      "cell_type": "code",
      "metadata": {
        "id": "PfNCFX8cdfpD",
        "colab_type": "code",
        "colab": {
          "base_uri": "https://localhost:8080/",
          "height": 465
        },
        "outputId": "8c134a4a-d836-4537-bc44-9c84dbf2bd12"
      },
      "source": [
        "results = sm.OLS(Y, X).fit()\n",
        "results.summary()"
      ],
      "execution_count": 12,
      "outputs": [
        {
          "output_type": "execute_result",
          "data": {
            "text/html": [
              "<table class=\"simpletable\">\n",
              "<caption>OLS Regression Results</caption>\n",
              "<tr>\n",
              "  <th>Dep. Variable:</th>     <td>TemperatureDif</td>  <th>  R-squared:         </th>  <td>   0.288</td>  \n",
              "</tr>\n",
              "<tr>\n",
              "  <th>Model:</th>                   <td>OLS</td>       <th>  Adj. R-squared:    </th>  <td>   0.288</td>  \n",
              "</tr>\n",
              "<tr>\n",
              "  <th>Method:</th>             <td>Least Squares</td>  <th>  F-statistic:       </th>  <td>1.949e+04</td> \n",
              "</tr>\n",
              "<tr>\n",
              "  <th>Date:</th>             <td>Sat, 06 Jun 2020</td> <th>  Prob (F-statistic):</th>   <td>  0.00</td>   \n",
              "</tr>\n",
              "<tr>\n",
              "  <th>Time:</th>                 <td>11:48:31</td>     <th>  Log-Likelihood:    </th> <td>-1.7046e+05</td>\n",
              "</tr>\n",
              "<tr>\n",
              "  <th>No. Observations:</th>      <td> 96453</td>      <th>  AIC:               </th>  <td>3.409e+05</td> \n",
              "</tr>\n",
              "<tr>\n",
              "  <th>Df Residuals:</th>          <td> 96450</td>      <th>  BIC:               </th>  <td>3.409e+05</td> \n",
              "</tr>\n",
              "<tr>\n",
              "  <th>Df Model:</th>              <td>     2</td>      <th>                     </th>      <td> </td>     \n",
              "</tr>\n",
              "<tr>\n",
              "  <th>Covariance Type:</th>      <td>nonrobust</td>    <th>                     </th>      <td> </td>     \n",
              "</tr>\n",
              "</table>\n",
              "<table class=\"simpletable\">\n",
              "<tr>\n",
              "          <td></td>             <th>coef</th>     <th>std err</th>      <th>t</th>      <th>P>|t|</th>  <th>[0.025</th>    <th>0.975]</th>  \n",
              "</tr>\n",
              "<tr>\n",
              "  <th>const</th>             <td>   -2.4381</td> <td>    0.021</td> <td> -115.948</td> <td> 0.000</td> <td>   -2.479</td> <td>   -2.397</td>\n",
              "</tr>\n",
              "<tr>\n",
              "  <th>Humidity</th>          <td>    3.0292</td> <td>    0.024</td> <td>  126.479</td> <td> 0.000</td> <td>    2.982</td> <td>    3.076</td>\n",
              "</tr>\n",
              "<tr>\n",
              "  <th>Wind Speed (km/h)</th> <td>    0.1193</td> <td>    0.001</td> <td>  176.164</td> <td> 0.000</td> <td>    0.118</td> <td>    0.121</td>\n",
              "</tr>\n",
              "</table>\n",
              "<table class=\"simpletable\">\n",
              "<tr>\n",
              "  <th>Omnibus:</th>       <td>3935.747</td> <th>  Durbin-Watson:     </th> <td>   0.264</td>\n",
              "</tr>\n",
              "<tr>\n",
              "  <th>Prob(Omnibus):</th>  <td> 0.000</td>  <th>  Jarque-Bera (JB):  </th> <td>4613.311</td>\n",
              "</tr>\n",
              "<tr>\n",
              "  <th>Skew:</th>           <td> 0.478</td>  <th>  Prob(JB):          </th> <td>    0.00</td>\n",
              "</tr>\n",
              "<tr>\n",
              "  <th>Kurtosis:</th>       <td> 3.484</td>  <th>  Cond. No.          </th> <td>    88.1</td>\n",
              "</tr>\n",
              "</table><br/><br/>Warnings:<br/>[1] Standard Errors assume that the covariance matrix of the errors is correctly specified."
            ],
            "text/plain": [
              "<class 'statsmodels.iolib.summary.Summary'>\n",
              "\"\"\"\n",
              "                            OLS Regression Results                            \n",
              "==============================================================================\n",
              "Dep. Variable:         TemperatureDif   R-squared:                       0.288\n",
              "Model:                            OLS   Adj. R-squared:                  0.288\n",
              "Method:                 Least Squares   F-statistic:                 1.949e+04\n",
              "Date:                Sat, 06 Jun 2020   Prob (F-statistic):               0.00\n",
              "Time:                        11:48:31   Log-Likelihood:            -1.7046e+05\n",
              "No. Observations:               96453   AIC:                         3.409e+05\n",
              "Df Residuals:                   96450   BIC:                         3.409e+05\n",
              "Df Model:                           2                                         \n",
              "Covariance Type:            nonrobust                                         \n",
              "=====================================================================================\n",
              "                        coef    std err          t      P>|t|      [0.025      0.975]\n",
              "-------------------------------------------------------------------------------------\n",
              "const                -2.4381      0.021   -115.948      0.000      -2.479      -2.397\n",
              "Humidity              3.0292      0.024    126.479      0.000       2.982       3.076\n",
              "Wind Speed (km/h)     0.1193      0.001    176.164      0.000       0.118       0.121\n",
              "==============================================================================\n",
              "Omnibus:                     3935.747   Durbin-Watson:                   0.264\n",
              "Prob(Omnibus):                  0.000   Jarque-Bera (JB):             4613.311\n",
              "Skew:                           0.478   Prob(JB):                         0.00\n",
              "Kurtosis:                       3.484   Cond. No.                         88.1\n",
              "==============================================================================\n",
              "\n",
              "Warnings:\n",
              "[1] Standard Errors assume that the covariance matrix of the errors is correctly specified.\n",
              "\"\"\""
            ]
          },
          "metadata": {
            "tags": []
          },
          "execution_count": 12
        }
      ]
    },
    {
      "cell_type": "code",
      "metadata": {
        "id": "FqW1ep3QdqxN",
        "colab_type": "code",
        "colab": {}
      },
      "source": [
        "data['WindHumidityIndex']=data['Wind Speed (km/h)']*data['Humidity']"
      ],
      "execution_count": 0,
      "outputs": []
    },
    {
      "cell_type": "code",
      "metadata": {
        "id": "0lbDA5D6d4Y8",
        "colab_type": "code",
        "colab": {
          "base_uri": "https://localhost:8080/",
          "height": 306
        },
        "outputId": "2f9b909f-d193-4c3a-8cec-6b4064b83151"
      },
      "source": [
        "data.head()"
      ],
      "execution_count": 14,
      "outputs": [
        {
          "output_type": "execute_result",
          "data": {
            "text/html": [
              "<div>\n",
              "<style scoped>\n",
              "    .dataframe tbody tr th:only-of-type {\n",
              "        vertical-align: middle;\n",
              "    }\n",
              "\n",
              "    .dataframe tbody tr th {\n",
              "        vertical-align: top;\n",
              "    }\n",
              "\n",
              "    .dataframe thead th {\n",
              "        text-align: right;\n",
              "    }\n",
              "</style>\n",
              "<table border=\"1\" class=\"dataframe\">\n",
              "  <thead>\n",
              "    <tr style=\"text-align: right;\">\n",
              "      <th></th>\n",
              "      <th>Formatted Date</th>\n",
              "      <th>Summary</th>\n",
              "      <th>Precip Type</th>\n",
              "      <th>Temperature (C)</th>\n",
              "      <th>Apparent Temperature (C)</th>\n",
              "      <th>Humidity</th>\n",
              "      <th>Wind Speed (km/h)</th>\n",
              "      <th>Wind Bearing (degrees)</th>\n",
              "      <th>Visibility (km)</th>\n",
              "      <th>Loud Cover</th>\n",
              "      <th>Pressure (millibars)</th>\n",
              "      <th>Daily Summary</th>\n",
              "      <th>TemperatureDif</th>\n",
              "      <th>WindHumidityIndex</th>\n",
              "    </tr>\n",
              "  </thead>\n",
              "  <tbody>\n",
              "    <tr>\n",
              "      <th>0</th>\n",
              "      <td>2006-04-01 00:00:00.000 +0200</td>\n",
              "      <td>Partly Cloudy</td>\n",
              "      <td>rain</td>\n",
              "      <td>9.472</td>\n",
              "      <td>7.389</td>\n",
              "      <td>0.890</td>\n",
              "      <td>14.120</td>\n",
              "      <td>251.000</td>\n",
              "      <td>15.826</td>\n",
              "      <td>0.000</td>\n",
              "      <td>1015.130</td>\n",
              "      <td>Partly cloudy throughout the day.</td>\n",
              "      <td>2.083</td>\n",
              "      <td>12.567</td>\n",
              "    </tr>\n",
              "    <tr>\n",
              "      <th>1</th>\n",
              "      <td>2006-04-01 01:00:00.000 +0200</td>\n",
              "      <td>Partly Cloudy</td>\n",
              "      <td>rain</td>\n",
              "      <td>9.356</td>\n",
              "      <td>7.228</td>\n",
              "      <td>0.860</td>\n",
              "      <td>14.265</td>\n",
              "      <td>259.000</td>\n",
              "      <td>15.826</td>\n",
              "      <td>0.000</td>\n",
              "      <td>1015.630</td>\n",
              "      <td>Partly cloudy throughout the day.</td>\n",
              "      <td>2.128</td>\n",
              "      <td>12.268</td>\n",
              "    </tr>\n",
              "    <tr>\n",
              "      <th>2</th>\n",
              "      <td>2006-04-01 02:00:00.000 +0200</td>\n",
              "      <td>Mostly Cloudy</td>\n",
              "      <td>rain</td>\n",
              "      <td>9.378</td>\n",
              "      <td>9.378</td>\n",
              "      <td>0.890</td>\n",
              "      <td>3.928</td>\n",
              "      <td>204.000</td>\n",
              "      <td>14.957</td>\n",
              "      <td>0.000</td>\n",
              "      <td>1015.940</td>\n",
              "      <td>Partly cloudy throughout the day.</td>\n",
              "      <td>0.000</td>\n",
              "      <td>3.496</td>\n",
              "    </tr>\n",
              "    <tr>\n",
              "      <th>3</th>\n",
              "      <td>2006-04-01 03:00:00.000 +0200</td>\n",
              "      <td>Partly Cloudy</td>\n",
              "      <td>rain</td>\n",
              "      <td>8.289</td>\n",
              "      <td>5.944</td>\n",
              "      <td>0.830</td>\n",
              "      <td>14.104</td>\n",
              "      <td>269.000</td>\n",
              "      <td>15.826</td>\n",
              "      <td>0.000</td>\n",
              "      <td>1016.410</td>\n",
              "      <td>Partly cloudy throughout the day.</td>\n",
              "      <td>2.344</td>\n",
              "      <td>11.706</td>\n",
              "    </tr>\n",
              "    <tr>\n",
              "      <th>4</th>\n",
              "      <td>2006-04-01 04:00:00.000 +0200</td>\n",
              "      <td>Mostly Cloudy</td>\n",
              "      <td>rain</td>\n",
              "      <td>8.756</td>\n",
              "      <td>6.978</td>\n",
              "      <td>0.830</td>\n",
              "      <td>11.045</td>\n",
              "      <td>259.000</td>\n",
              "      <td>15.826</td>\n",
              "      <td>0.000</td>\n",
              "      <td>1016.510</td>\n",
              "      <td>Partly cloudy throughout the day.</td>\n",
              "      <td>1.778</td>\n",
              "      <td>9.167</td>\n",
              "    </tr>\n",
              "  </tbody>\n",
              "</table>\n",
              "</div>"
            ],
            "text/plain": [
              "                  Formatted Date  ... WindHumidityIndex\n",
              "0  2006-04-01 00:00:00.000 +0200  ...            12.567\n",
              "1  2006-04-01 01:00:00.000 +0200  ...            12.268\n",
              "2  2006-04-01 02:00:00.000 +0200  ...             3.496\n",
              "3  2006-04-01 03:00:00.000 +0200  ...            11.706\n",
              "4  2006-04-01 04:00:00.000 +0200  ...             9.167\n",
              "\n",
              "[5 rows x 14 columns]"
            ]
          },
          "metadata": {
            "tags": []
          },
          "execution_count": 14
        }
      ]
    },
    {
      "cell_type": "code",
      "metadata": {
        "id": "e0leKri1d7pP",
        "colab_type": "code",
        "colab": {}
      },
      "source": [
        "Y=data['TemperatureDif']\n",
        "X=data[['Humidity','Wind Speed (km/h)','WindHumidityIndex']]"
      ],
      "execution_count": 0,
      "outputs": []
    },
    {
      "cell_type": "code",
      "metadata": {
        "id": "UYRXDuTZeFZo",
        "colab_type": "code",
        "colab": {}
      },
      "source": [
        "X = sm.add_constant(X)"
      ],
      "execution_count": 0,
      "outputs": []
    },
    {
      "cell_type": "code",
      "metadata": {
        "id": "RNQdAhOzeJWZ",
        "colab_type": "code",
        "colab": {
          "base_uri": "https://localhost:8080/",
          "height": 486
        },
        "outputId": "ffbbe1ee-c25c-4551-966d-ab08ffde71e4"
      },
      "source": [
        "results = sm.OLS(Y, X).fit()\n",
        "results.summary()"
      ],
      "execution_count": 17,
      "outputs": [
        {
          "output_type": "execute_result",
          "data": {
            "text/html": [
              "<table class=\"simpletable\">\n",
              "<caption>OLS Regression Results</caption>\n",
              "<tr>\n",
              "  <th>Dep. Variable:</th>     <td>TemperatureDif</td>  <th>  R-squared:         </th>  <td>   0.341</td>  \n",
              "</tr>\n",
              "<tr>\n",
              "  <th>Model:</th>                   <td>OLS</td>       <th>  Adj. R-squared:    </th>  <td>   0.341</td>  \n",
              "</tr>\n",
              "<tr>\n",
              "  <th>Method:</th>             <td>Least Squares</td>  <th>  F-statistic:       </th>  <td>1.666e+04</td> \n",
              "</tr>\n",
              "<tr>\n",
              "  <th>Date:</th>             <td>Sat, 06 Jun 2020</td> <th>  Prob (F-statistic):</th>   <td>  0.00</td>   \n",
              "</tr>\n",
              "<tr>\n",
              "  <th>Time:</th>                 <td>11:51:22</td>     <th>  Log-Likelihood:    </th> <td>-1.6669e+05</td>\n",
              "</tr>\n",
              "<tr>\n",
              "  <th>No. Observations:</th>      <td> 96453</td>      <th>  AIC:               </th>  <td>3.334e+05</td> \n",
              "</tr>\n",
              "<tr>\n",
              "  <th>Df Residuals:</th>          <td> 96449</td>      <th>  BIC:               </th>  <td>3.334e+05</td> \n",
              "</tr>\n",
              "<tr>\n",
              "  <th>Df Model:</th>              <td>     3</td>      <th>                     </th>      <td> </td>     \n",
              "</tr>\n",
              "<tr>\n",
              "  <th>Covariance Type:</th>      <td>nonrobust</td>    <th>                     </th>      <td> </td>     \n",
              "</tr>\n",
              "</table>\n",
              "<table class=\"simpletable\">\n",
              "<tr>\n",
              "          <td></td>             <th>coef</th>     <th>std err</th>      <th>t</th>      <th>P>|t|</th>  <th>[0.025</th>    <th>0.975]</th>  \n",
              "</tr>\n",
              "<tr>\n",
              "  <th>const</th>             <td>   -0.0839</td> <td>    0.033</td> <td>   -2.511</td> <td> 0.012</td> <td>   -0.149</td> <td>   -0.018</td>\n",
              "</tr>\n",
              "<tr>\n",
              "  <th>Humidity</th>          <td>   -0.1775</td> <td>    0.043</td> <td>   -4.133</td> <td> 0.000</td> <td>   -0.262</td> <td>   -0.093</td>\n",
              "</tr>\n",
              "<tr>\n",
              "  <th>Wind Speed (km/h)</th> <td>   -0.0905</td> <td>    0.002</td> <td>  -36.797</td> <td> 0.000</td> <td>   -0.095</td> <td>   -0.086</td>\n",
              "</tr>\n",
              "<tr>\n",
              "  <th>WindHumidityIndex</th> <td>    0.2971</td> <td>    0.003</td> <td>   88.470</td> <td> 0.000</td> <td>    0.291</td> <td>    0.304</td>\n",
              "</tr>\n",
              "</table>\n",
              "<table class=\"simpletable\">\n",
              "<tr>\n",
              "  <th>Omnibus:</th>       <td>4849.937</td> <th>  Durbin-Watson:     </th> <td>   0.262</td>\n",
              "</tr>\n",
              "<tr>\n",
              "  <th>Prob(Omnibus):</th>  <td> 0.000</td>  <th>  Jarque-Bera (JB):  </th> <td>9295.404</td>\n",
              "</tr>\n",
              "<tr>\n",
              "  <th>Skew:</th>           <td> 0.378</td>  <th>  Prob(JB):          </th> <td>    0.00</td>\n",
              "</tr>\n",
              "<tr>\n",
              "  <th>Kurtosis:</th>       <td> 4.320</td>  <th>  Cond. No.          </th> <td>    193.</td>\n",
              "</tr>\n",
              "</table><br/><br/>Warnings:<br/>[1] Standard Errors assume that the covariance matrix of the errors is correctly specified."
            ],
            "text/plain": [
              "<class 'statsmodels.iolib.summary.Summary'>\n",
              "\"\"\"\n",
              "                            OLS Regression Results                            \n",
              "==============================================================================\n",
              "Dep. Variable:         TemperatureDif   R-squared:                       0.341\n",
              "Model:                            OLS   Adj. R-squared:                  0.341\n",
              "Method:                 Least Squares   F-statistic:                 1.666e+04\n",
              "Date:                Sat, 06 Jun 2020   Prob (F-statistic):               0.00\n",
              "Time:                        11:51:22   Log-Likelihood:            -1.6669e+05\n",
              "No. Observations:               96453   AIC:                         3.334e+05\n",
              "Df Residuals:                   96449   BIC:                         3.334e+05\n",
              "Df Model:                           3                                         \n",
              "Covariance Type:            nonrobust                                         \n",
              "=====================================================================================\n",
              "                        coef    std err          t      P>|t|      [0.025      0.975]\n",
              "-------------------------------------------------------------------------------------\n",
              "const                -0.0839      0.033     -2.511      0.012      -0.149      -0.018\n",
              "Humidity             -0.1775      0.043     -4.133      0.000      -0.262      -0.093\n",
              "Wind Speed (km/h)    -0.0905      0.002    -36.797      0.000      -0.095      -0.086\n",
              "WindHumidityIndex     0.2971      0.003     88.470      0.000       0.291       0.304\n",
              "==============================================================================\n",
              "Omnibus:                     4849.937   Durbin-Watson:                   0.262\n",
              "Prob(Omnibus):                  0.000   Jarque-Bera (JB):             9295.404\n",
              "Skew:                           0.378   Prob(JB):                         0.00\n",
              "Kurtosis:                       4.320   Cond. No.                         193.\n",
              "==============================================================================\n",
              "\n",
              "Warnings:\n",
              "[1] Standard Errors assume that the covariance matrix of the errors is correctly specified.\n",
              "\"\"\""
            ]
          },
          "metadata": {
            "tags": []
          },
          "execution_count": 17
        }
      ]
    }
  ]
}